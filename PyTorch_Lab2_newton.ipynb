{
  "cells": [
    {
      "cell_type": "markdown",
      "metadata": {
        "id": "view-in-github",
        "colab_type": "text"
      },
      "source": [
        "<a href=\"https://colab.research.google.com/github/hajarelkhazri/deep_learning/blob/main/PyTorch_Lab2_newton.ipynb\" target=\"_parent\"><img src=\"https://colab.research.google.com/assets/colab-badge.svg\" alt=\"Open In Colab\"/></a>"
      ]
    },
    {
      "cell_type": "markdown",
      "id": "6cae0bb0",
      "metadata": {
        "id": "6cae0bb0"
      },
      "source": [
        "# 🧪 PyTorch Lab 2: Newton Method for logistic regression\n",
        "\n",
        "\n",
        "You already know **gradient descent**: update the parameters in the opposite direction of the gradient, with a fixed or adaptive step size.\n",
        "\n",
        "**Newton’s method** goes a step further. Instead of using only the first derivative (the gradient), it also uses the **second derivative information** (the Hessian matrix). Around the current point, we approximate the loss by a quadratic function, then jump directly to its minimum.  \n",
        "\n",
        "The update rule is:\n",
        "\n",
        "$$\n",
        "w_{k+1} = w_k - H^{-1}(w_k)\\,\\nabla f(w_k)\n",
        "$$\n",
        "\n",
        "where:  \n",
        "- $ \\nabla f(w_k)$ is the gradient at the current point,  \n",
        "- $H(w_k)$ is the Hessian (matrix of second derivatives).  \n",
        "\n",
        "\n",
        "We'll train on a small **real dataset** (Breast Cancer Wisconsin from scikit-learn). If scikit-learn isn't available, we fall back to a tiny embedded Iris-binary subset."
      ]
    },
    {
      "cell_type": "markdown",
      "id": "2c1f2927",
      "metadata": {
        "id": "2c1f2927"
      },
      "source": [
        "## 1) Setup\n"
      ]
    },
    {
      "cell_type": "code",
      "execution_count": null,
      "id": "08889593",
      "metadata": {
        "colab": {
          "base_uri": "https://localhost:8080/"
        },
        "id": "08889593",
        "outputId": "19b1607f-be0a-483d-acf0-14f354ee0e7d"
      },
      "outputs": [
        {
          "output_type": "stream",
          "name": "stdout",
          "text": [
            "PyTorch version: 2.8.0+cu126\n"
          ]
        }
      ],
      "source": [
        "import torch\n",
        "torch.set_default_dtype(torch.float64)\n",
        "print('PyTorch version:', torch.__version__)\n",
        "torch.manual_seed(0)\n",
        "\n",
        "import numpy as np\n",
        "import matplotlib.pyplot as plt\n",
        "\n",
        "# For data\n",
        "from sklearn.datasets import load_iris\n",
        "from sklearn.preprocessing import StandardScaler\n"
      ]
    },
    {
      "cell_type": "markdown",
      "id": "a9e1c2fd",
      "metadata": {
        "id": "a9e1c2fd"
      },
      "source": [
        "## 2) Load & prepare the data (Iris)\n"
      ]
    },
    {
      "cell_type": "code",
      "execution_count": null,
      "id": "e1431a02",
      "metadata": {
        "colab": {
          "base_uri": "https://localhost:8080/"
        },
        "id": "e1431a02",
        "outputId": "e8dd145b-a666-4a4b-e5f6-b6ad03435d37"
      },
      "outputs": [
        {
          "output_type": "stream",
          "name": "stdout",
          "text": [
            "Tensors: X=(150, 5), y=(150,), d=5\n"
          ]
        }
      ],
      "source": [
        "# Load iris dataset\n",
        "data = load_iris()\n",
        "X = data['data']          # shape (150, 4)\n",
        "y = data['target']        # classes: 0=setosa, 1=versicolor, 2=virginica\n",
        "\n",
        "# Convert to binary classification: setosa (0) vs not-setosa (1)\n",
        "y = (y != 0).astype(float)\n",
        "\n",
        "# Standardize features\n",
        "X = StandardScaler().fit_transform(X)\n",
        "\n",
        "# Convert to torch tensors\n",
        "X = torch.tensor(X, dtype=torch.get_default_dtype())\n",
        "y = torch.tensor(y, dtype=torch.get_default_dtype())\n",
        "\n",
        "n, d = X.shape\n",
        "\n",
        "# Add bias column (intercept)\n",
        "X = torch.cat([torch.ones(n, 1, dtype=X.dtype), X], dim=1)\n",
        "d = d + 1\n",
        "print(f\"Tensors: X={tuple(X.shape)}, y={tuple(y.shape)}, d={d}\")\n"
      ]
    },
    {
      "cell_type": "markdown",
      "id": "a34385f0",
      "metadata": {
        "id": "a34385f0"
      },
      "source": [
        "## 3) Define the logistic loss\n",
        "\n",
        "For a weight vector \\(w \\in \\mathbb{R}^{d}\\) and data \\(X \\in \\mathbb{R}^{n\\times d}\\), labels \\(y \\in \\{0,1\\}^n\\):\n",
        "\n",
        "$$\n",
        "\\ell(w) = -\\frac{1}{n}\\sum_{i=1}^n \\Big( y_i\\log(\\sigma(x_i^\\top w)) + (1-y_i)\\log(1-\\sigma(x_i^\\top w)) \\Big),\n",
        "$$\n",
        "\n",
        "where $\\sigma(t) = 1/(1+e^{-t})$ is the sigmoid.\n"
      ]
    },
    {
      "cell_type": "code",
      "execution_count": null,
      "id": "5da9a1a8",
      "metadata": {
        "colab": {
          "base_uri": "https://localhost:8080/"
        },
        "id": "5da9a1a8",
        "outputId": "f298f3dc-b9d5-4042-c6c3-7552e2dfb3af"
      },
      "outputs": [
        {
          "output_type": "stream",
          "name": "stdout",
          "text": [
            "Initial loss: 0.23878280685050943\n"
          ]
        }
      ],
      "source": [
        "def logistic_loss(w, X, y):\n",
        "    z = X @ w\n",
        "    p = torch.sigmoid(z)\n",
        "    eps = 1e-12\n",
        "    nll = - (y * torch.log(p + eps) + (1 - y) * torch.log(1 - p + eps)).mean()\n",
        "    return nll\n",
        "\n",
        "# Initialize parameters\n",
        "w = torch.nn.Parameter(torch.rand(X.shape[1], dtype=torch.get_default_dtype()), requires_grad=True)\n",
        "\n",
        "# Quick sanity check\n",
        "loss = logistic_loss(w, X, y)\n",
        "print(\"Initial loss:\", loss.item())\n"
      ]
    },
    {
      "cell_type": "markdown",
      "id": "9ccb34fe",
      "metadata": {
        "id": "9ccb34fe"
      },
      "source": [
        "## 4) **Exercise:** Gradient & Hessian with `torch.autograd.functional`\n",
        "\n",
        "**Tasks**\n",
        "1. Compute the gradient of `logistic_loss` at `w`.\n",
        "2. Compute the Hessian at `w`.\n",
        "   \n",
        "hint : torch.autograd.functional\n"
      ]
    },
    {
      "cell_type": "code",
      "execution_count": 4,
      "id": "a65474d6",
      "metadata": {
        "id": "a65474d6",
        "colab": {
          "base_uri": "https://localhost:8080/"
        },
        "outputId": "4a82e1c5-a258-4688-85f7-1d7d4edcf9c9"
      },
      "outputs": [
        {
          "output_type": "stream",
          "name": "stdout",
          "text": [
            "||grad||: 0.27459912425425054\n",
            "H shape: (5, 5)\n"
          ]
        }
      ],
      "source": [
        "# === Your work ===\n",
        "# TODO: compute grad and H using the functional API\n",
        "# Hint: wrap logistic_loss in a lambda that only takes w as input.\n",
        "\n",
        "grad = torch.autograd.functional.jacobian(lambda w: logistic_loss(w,X,y),w)  # TODO\n",
        "H = torch.autograd.functional.hessian(lambda w: logistic_loss(w,X,y),w)     # TODO\n",
        "\n",
        "print(\"||grad||:\", float(torch.norm(grad)))\n",
        "print(\"H shape:\", tuple(H.shape))"
      ]
    },
    {
      "cell_type": "markdown",
      "id": "19db0c54",
      "metadata": {
        "id": "19db0c54"
      },
      "source": [
        "## 5) Gradient Descent (GD)\n",
        "\n",
        "We implement a basic GD loop:\n",
        "$$\n",
        "w \\leftarrow w - \\alpha \\nabla \\ell(w).\n",
        "$$\n",
        "\n",
        "**Exercise**\n",
        "- Complete the TODOs to record the loss at each epoch and update $w$.\n",
        "- Use a stopping criterion based on $$ \\|\\nabla \\ell(w)\\| < \\varepsilon $$\n"
      ]
    },
    {
      "cell_type": "code",
      "execution_count": 6,
      "id": "d6e7ac57",
      "metadata": {
        "id": "d6e7ac57",
        "colab": {
          "base_uri": "https://localhost:8080/"
        },
        "outputId": "9a72447c-928d-405b-fa9d-73f2f104e64c"
      },
      "outputs": [
        {
          "output_type": "stream",
          "name": "stdout",
          "text": [
            "GD early stop at epoch 94\n"
          ]
        }
      ],
      "source": [
        "n_epoch = 100\n",
        "alpha = 1.0          # try 0.1, 0.5, 1.0, etc.\n",
        "eps = 1e-2\n",
        "loss_grad = []\n",
        "\n",
        "# Re-init w\n",
        "w = torch.nn.Parameter(torch.rand(X.shape[1], dtype=torch.get_default_dtype()), requires_grad=True)\n",
        "\n",
        "for epoch in range(n_epoch):\n",
        "    # TODO: compute loss and append to loss_grad\n",
        "    # TODO: compute gradient (functional jacobian)\n",
        "    # TODO: update w with a GD step\n",
        "\n",
        "    # --- your code ---\n",
        "    loss = logistic_loss(w, X, y)\n",
        "    loss_grad.append(float(loss))\n",
        "    grad = torch.autograd.functional.jacobian(lambda w: logistic_loss(w, X, y), w)\n",
        "    w = torch.nn.Parameter( w - alpha * grad, requires_grad=True)\n",
        "    # --- end your code ---\n",
        "\n",
        "    # stopping\n",
        "    if torch.norm(grad) < eps :  # TODO: replace with torch.norm(grad) < eps\n",
        "        print(f\"GD early stop at epoch {epoch}\")\n",
        "        break"
      ]
    },
    {
      "cell_type": "markdown",
      "id": "ac85ad3b",
      "metadata": {
        "id": "ac85ad3b"
      },
      "source": [
        "## 6) Newton's Method\n",
        "\n",
        "Newton update:\n",
        "$$\n",
        "w \\leftarrow w - H(w)^{-1} \\nabla \\ell(w).\n",
        "$$\n",
        "\n",
        "In practice, **solve** the linear system `H s = grad` and set `w ← w − s` to avoid explicit inversion.\n"
      ]
    },
    {
      "cell_type": "code",
      "execution_count": 7,
      "id": "40ab96ad",
      "metadata": {
        "id": "40ab96ad",
        "colab": {
          "base_uri": "https://localhost:8080/"
        },
        "outputId": "5030aec7-053a-4d7c-cbc1-924a93588930"
      },
      "outputs": [
        {
          "output_type": "stream",
          "name": "stdout",
          "text": [
            "Newton early stop at epoch 4\n"
          ]
        }
      ],
      "source": [
        "n_epoch = 100\n",
        "eps = 1e-2\n",
        "loss_newton = []\n",
        "\n",
        "# Re-init w\n",
        "w = torch.nn.Parameter(torch.rand(X.shape[1], dtype=torch.get_default_dtype()), requires_grad=True)\n",
        "\n",
        "for epoch in range(n_epoch):\n",
        "    # TODO: compute loss and append to loss_newton\n",
        "    # TODO: compute grad and Hessian\n",
        "    # TODO: Newton step using torch.linalg.solve\n",
        "\n",
        "    # --- your code ---\n",
        "    loss = logistic_loss(w , X, y)\n",
        "    loss_newton.append(float(loss))\n",
        "    grad = torch.autograd.functional.jacobian(lambda w: logistic_loss(w, X, y), w)\n",
        "    H = torch.autograd.functional.hessian(lambda w: logistic_loss(w,X,y),w)\n",
        "    step = torch.linalg.solve(H, grad)\n",
        "    w = w - step\n",
        "    # --- end your code ---\n",
        "\n",
        "    if torch.norm(grad) < eps:  # TODO: replace with torch.norm(grad) < eps\n",
        "        print(f\"Newton early stop at epoch {epoch}\")\n",
        "        break"
      ]
    },
    {
      "cell_type": "markdown",
      "id": "299f2abb",
      "metadata": {
        "id": "299f2abb"
      },
      "source": [
        "## 7) Compare convergence\n",
        "\n",
        "Plot the loss trajectories of GD vs Newton.  \n"
      ]
    },
    {
      "cell_type": "code",
      "source": [
        "# Plot loss trajectories\n",
        "import matplotlib.pyplot as plt\n",
        "\n",
        "plt.figure(figsize=(10, 6))\n",
        "plt.plot(loss_grad, label='GD', marker='o', markersize=4)\n",
        "plt.plot(loss_newton, label='Newton', marker='s', markersize=4)\n",
        "plt.xlabel('Epoch')\n",
        "plt.ylabel('Loss')\n",
        "plt.title('Convergence Comparison: GD vs Newton')\n",
        "plt.legend()\n",
        "plt.grid(True, alpha=0.3)\n",
        "plt.yscale('log')  # Optional: use log scale to see convergence better\n",
        "plt.show()"
      ],
      "metadata": {
        "colab": {
          "base_uri": "https://localhost:8080/",
          "height": 564
        },
        "id": "4ugxmioA36a9",
        "outputId": "2eec5fce-6c04-469d-bb00-be7754a7e910"
      },
      "id": "4ugxmioA36a9",
      "execution_count": 9,
      "outputs": [
        {
          "output_type": "display_data",
          "data": {
            "text/plain": [
              "<Figure size 1000x600 with 1 Axes>"
            ],
            "image/png": "[encoded data removed]"
          },
          "metadata": {}
        }
      ]
    }
  ],
  "metadata": {
    "kernelspec": {
      "display_name": "Python 3 (ipykernel)",
      "language": "python",
      "name": "python3"
    },
    "language_info": {
      "codemirror_mode": {
        "name": "ipython",
        "version": 3
      },
      "file_extension": ".py",
      "mimetype": "text/x-python",
      "name": "python",
      "nbconvert_exporter": "python",
      "pygments_lexer": "ipython3",
      "version": "3.13.3"
    },
    "colab": {
      "provenance": [],
      "include_colab_link": true
    }
  },
  "nbformat": 4,
  "nbformat_minor": 5
}