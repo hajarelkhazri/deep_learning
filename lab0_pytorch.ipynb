{
  "cells": [
    {
      "cell_type": "markdown",
      "metadata": {
        "id": "view-in-github",
        "colab_type": "text"
      },
      "source": [
        "<a href=\"https://colab.research.google.com/github/hajarelkhazri/deep_learning/blob/main/lab0_pytorch.ipynb\" target=\"_parent\"><img src=\"https://colab.research.google.com/assets/colab-badge.svg\" alt=\"Open In Colab\"/></a>"
      ]
    },
    {
      "cell_type": "markdown",
      "id": "f643f031",
      "metadata": {
        "id": "f643f031"
      },
      "source": [
        "# 🧪 PyTorch Lab 0: Tensors & Autograd (Basics)\n",
        "\n",
        "Welcome! This lab will get you hands-on with **PyTorch**: creating tensors, defining functions,\n",
        "using **autograd**, and manipulating gradients.\n",
        "\n",
        "Go to https://pytorch.org/get-started/locally/, select your config and package manager and install.\n",
        "\n",
        "**What you'll learn**:\n",
        "- Creating and inspecting tensors\n",
        "- Defining scalar & multivariate functions\n",
        "- Backpropagation via `autograd`\n",
        "- Zeroing/accumulating gradients and `detach()`\n",
        "- (Bonus) Finite-difference gradient check"
      ]
    },
    {
      "cell_type": "markdown",
      "id": "7a00003c",
      "metadata": {
        "id": "7a00003c"
      },
      "source": [
        "## 0. Setup"
      ]
    },
    {
      "cell_type": "code",
      "execution_count": null,
      "id": "54eddece",
      "metadata": {
        "colab": {
          "base_uri": "https://localhost:8080/"
        },
        "id": "54eddece",
        "outputId": "7907f5cc-d57e-4156-c8bf-2bdab13e117a"
      },
      "outputs": [
        {
          "output_type": "stream",
          "name": "stdout",
          "text": [
            "PyTorch version: 2.8.0+cu126\n"
          ]
        },
        {
          "output_type": "execute_result",
          "data": {
            "text/plain": [
              "<torch._C.Generator at 0x7ea8310dced0>"
            ]
          },
          "metadata": {},
          "execution_count": 2
        }
      ],
      "source": [
        "import torch\n",
        "print('PyTorch version:', torch.__version__)\n",
        "torch.manual_seed(0)"
      ]
    },
    {
      "cell_type": "markdown",
      "id": "fb70bb14",
      "metadata": {
        "id": "fb70bb14"
      },
      "source": [
        "## 1. Tensors Basics\n",
        "\n",
        "A **tensor** is a generalization of vectors and matrices to potentially higher dimensions."
      ]
    },
    {
      "cell_type": "code",
      "execution_count": null,
      "id": "03917657",
      "metadata": {
        "colab": {
          "base_uri": "https://localhost:8080/"
        },
        "id": "03917657",
        "outputId": "1b1ddaf8-1c8b-402c-adec-9cd32055fe12"
      },
      "outputs": [
        {
          "output_type": "stream",
          "name": "stdout",
          "text": [
            "x = tensor([2.], requires_grad=True)\n",
            "y = tensor([3.], requires_grad=True)\n",
            "z = x + y = tensor([5.], grad_fn=<AddBackward0>)\n",
            "z.shape = torch.Size([1])\n"
          ]
        }
      ],
      "source": [
        "# Create basic tensors\n",
        "x = torch.tensor([2.0], requires_grad=True)\n",
        "y = torch.tensor([3.0], requires_grad=True)\n",
        "\n",
        "print('x =', x)\n",
        "print('y =', y)\n",
        "z = x + y\n",
        "print('z = x + y =', z)\n",
        "print('z.shape =', z.shape)"
      ]
    },
    {
      "cell_type": "markdown",
      "id": "3703913d",
      "metadata": {
        "id": "3703913d"
      },
      "source": [
        "### Exercise 1.1 — Create a 3×3 random matrix\n",
        "\n",
        "- Create a tensor `A` of shape **(3, 3)** with random values.\n",
        "- Compute its transpose `A_T` and verify the shape."
      ]
    },
    {
      "cell_type": "code",
      "execution_count": null,
      "id": "21a36562",
      "metadata": {
        "colab": {
          "base_uri": "https://localhost:8080/"
        },
        "id": "21a36562",
        "outputId": "8b215337-28f1-4871-de32-9c927435bb9f"
      },
      "outputs": [
        {
          "output_type": "stream",
          "name": "stdout",
          "text": [
            "A =\n",
            " tensor([[3., 2., 1.],\n",
            "        [2., 1., 1.],\n",
            "        [1., 2., 1.]])\n",
            "A_T =\n",
            " tensor([[3., 2., 1.],\n",
            "        [2., 1., 2.],\n",
            "        [1., 1., 1.]])\n"
          ]
        }
      ],
      "source": [
        "# TODO: create A and A_T\n",
        "# Hint: use torch.randn\n",
        "A = torch.tensor([[3.,2.,1.],\n",
        "                  [2.,1.,1.],\n",
        "                  [1.,2.,1.]])\n",
        "A_T = A.T\n",
        "\n",
        "# ===== quick checks =====\n",
        "assert A.shape == (3, 3)\n",
        "assert A_T.shape == (3, 3)\n",
        "print('A =\\n', A)\n",
        "print('A_T =\\n', A_T)"
      ]
    },
    {
      "cell_type": "markdown",
      "id": "06f0e45d",
      "metadata": {
        "id": "06f0e45d"
      },
      "source": [
        "## 2. Defining a Function\n",
        "\n",
        "Start with a simple scalar function and build intuition."
      ]
    },
    {
      "cell_type": "code",
      "execution_count": null,
      "id": "794d6429",
      "metadata": {
        "id": "794d6429",
        "colab": {
          "base_uri": "https://localhost:8080/"
        },
        "outputId": "7274b264-8152-47a4-a54d-72d44ebf4ded"
      },
      "outputs": [
        {
          "output_type": "stream",
          "name": "stdout",
          "text": [
            "f(x) = 16.0\n"
          ]
        }
      ],
      "source": [
        "#f(x) = x^2 at x=4\n",
        "x = torch.tensor([4.0], requires_grad=True)\n",
        "f = x**2\n",
        "print('f(x) =', f.item())"
      ]
    },
    {
      "cell_type": "markdown",
      "id": "4e08e555",
      "metadata": {
        "id": "4e08e555"
      },
      "source": [
        "### Exercise 2.1 — Polynomial\n",
        "\n",
        "Define and evaluate the polynomial:  \n",
        "\\( f(x) = 3x^3 + 2x^2 + 5 \\) at \\( x = 2 \\)."
      ]
    },
    {
      "cell_type": "code",
      "execution_count": null,
      "id": "f1d28881",
      "metadata": {
        "id": "f1d28881",
        "colab": {
          "base_uri": "https://localhost:8080/"
        },
        "outputId": "56e1830a-1af3-47e1-8d66-e11d7887857a"
      },
      "outputs": [
        {
          "output_type": "stream",
          "name": "stdout",
          "text": [
            "f(x) = 37.0\n"
          ]
        }
      ],
      "source": [
        "# TODO: define poly at x=2 with requires_grad=True\n",
        "x = torch.tensor([2.], requires_grad=True)\n",
        "f = 3*x**3+2*x**2+5\n",
        "print('f(x) =', f.item())"
      ]
    },
    {
      "cell_type": "markdown",
      "id": "2a45d8d1",
      "metadata": {
        "id": "2a45d8d1"
      },
      "source": [
        "## 3. Using Autograd\n",
        "\n",
        "Call `.backward()` on a scalar output to compute gradients of inputs marked with `requires_grad=True`."
      ]
    },
    {
      "cell_type": "code",
      "execution_count": null,
      "id": "e6cea6a0",
      "metadata": {
        "id": "e6cea6a0",
        "colab": {
          "base_uri": "https://localhost:8080/"
        },
        "outputId": "f3ddfa1f-134b-4d1d-cda3-b0f659afb5e3"
      },
      "outputs": [
        {
          "output_type": "stream",
          "name": "stdout",
          "text": [
            "df/dx at x=4 = 8.0\n"
          ]
        }
      ],
      "source": [
        "# Gradient of f(x) = x^2 at x=4\n",
        "x = torch.tensor([4.0], requires_grad=True)\n",
        "f = x**2\n",
        "f.backward()\n",
        "print('df/dx at x=4 =', x.grad.item())  # Expected 8"
      ]
    },
    {
      "cell_type": "markdown",
      "id": "dec80e01",
      "metadata": {
        "id": "dec80e01"
      },
      "source": [
        "### Exercise 3.1 — Autograd on the polynomial\n",
        "\n",
        "Compute the gradient of \\( f(x) = 3x^3 + 2x^2 + 5 \\) at \\( x = 2 \\).  \n",
        "*(Analytical answer for comparison: \\( f'(x) = 9x^2 + 4x \\) so \\( f'(2) = 9*4 + 8 = 44 \\))."
      ]
    },
    {
      "cell_type": "code",
      "execution_count": null,
      "id": "01ac7c53",
      "metadata": {
        "id": "01ac7c53",
        "colab": {
          "base_uri": "https://localhost:8080/"
        },
        "outputId": "d6c508f0-52d4-4193-dd54-6edf698d93a2"
      },
      "outputs": [
        {
          "output_type": "stream",
          "name": "stdout",
          "text": [
            "df/dx at x=2 = 44.0\n"
          ]
        }
      ],
      "source": [
        "# TODO: compute gradient with autograd\n",
        "x = torch.tensor([2.0],requires_grad=True)\n",
        "f = 3*x**3+2*x**2+5\n",
        "f.backward()\n",
        "print('df/dx at x=2 =', x.grad.item())\n",
        "assert abs(x.grad.item() - 44.0) < 1e-5"
      ]
    },
    {
      "cell_type": "markdown",
      "id": "ecbe4c6c",
      "metadata": {
        "id": "ecbe4c6c"
      },
      "source": [
        "## 4. Gradient Manipulation\n",
        "\n",
        "Gradients **accumulate** by default on leaf tensors. Use `zero_()` to reset between backward passes."
      ]
    },
    {
      "cell_type": "code",
      "execution_count": null,
      "id": "c9bda1af",
      "metadata": {
        "id": "c9bda1af"
      },
      "outputs": [],
      "source": [
        "x = torch.tensor([2.0], requires_grad=True)\n",
        "\n",
        "f1 = 3*x**3 + 2*x**2 + 5\n",
        "f1.backward()\n",
        "print('After first backward, grad =', x.grad.item())\n",
        "\n",
        "# Zero gradients before next backward\n",
        "x.grad.zero_()\n",
        "\n",
        "f2 = (x + 1)**2\n",
        "f2.backward()\n",
        "print('After zero + second backward, grad =', x.grad.item())"
      ]
    },
    {
      "cell_type": "markdown",
      "id": "979c0317",
      "metadata": {
        "id": "979c0317"
      },
      "source": [
        "### Exercise 4.1 — Observe accumulation\n",
        "\n",
        "Call `.backward()` twice **without** zeroing gradients. What do you observe?"
      ]
    },
    {
      "cell_type": "code",
      "execution_count": null,
      "id": "d17e8a35",
      "metadata": {
        "id": "d17e8a35",
        "colab": {
          "base_uri": "https://localhost:8080/"
        },
        "outputId": "270b656b-f519-4004-ce5b-ae33af1769e9"
      },
      "outputs": [
        {
          "output_type": "stream",
          "name": "stdout",
          "text": [
            "grad after first backward = 6.0\n",
            "grad after second backward (no zero_) = 12.0\n"
          ]
        }
      ],
      "source": [
        "x = torch.tensor([2.0], requires_grad=True)\n",
        "\n",
        "# TODO:\n",
        "f = (x + 1)**2\n",
        "f.backward()\n",
        "print('grad after first backward =', x.grad.item())\n",
        "f = (x + 1)**2\n",
        "f.backward()\n",
        "print('grad after second backward (no zero_) =', x.grad.item())\n",
        "# Comment your observation below: grad after first backward is 6.0 and after the second backward is accumulated to 12 (6+6)\n",
        "# Your notes: Qunad on appele .backward() sans réinitialiser les gradients, PyTorch additionne le nouveau gradient au gradient existant au lieu de le remplacer."
      ]
    },
    {
      "cell_type": "markdown",
      "id": "f814d0c3",
      "metadata": {
        "id": "f814d0c3"
      },
      "source": [
        "## 5. Stopping Gradient Flow with `detach()`\n",
        "\n",
        "Use `detach()` to stop autograd from tracking a tensor in the graph."
      ]
    },
    {
      "cell_type": "code",
      "execution_count": null,
      "id": "22972abf",
      "metadata": {
        "id": "22972abf",
        "colab": {
          "base_uri": "https://localhost:8080/"
        },
        "outputId": "ff0e44a8-b4ce-41e4-d16f-d010f1dfda9e"
      },
      "outputs": [
        {
          "output_type": "stream",
          "name": "stdout",
          "text": [
            "y requires_grad: True\n",
            "z requires_grad: False\n"
          ]
        }
      ],
      "source": [
        "x = torch.tensor([2.0], requires_grad=True)\n",
        "y = x**2\n",
        "z = y.detach()\n",
        "print('y requires_grad:', y.requires_grad)\n",
        "print('z requires_grad:', z.requires_grad)"
      ]
    },
    {
      "cell_type": "markdown",
      "id": "608589be",
      "metadata": {
        "id": "608589be"
      },
      "source": [
        "## 6. Multivariate Functions\n",
        "\n",
        "Autograd handles multiple inputs naturally."
      ]
    },
    {
      "cell_type": "code",
      "execution_count": null,
      "id": "31eaf675",
      "metadata": {
        "id": "31eaf675",
        "colab": {
          "base_uri": "https://localhost:8080/"
        },
        "outputId": "02e78c0f-94ef-4e1e-ff72-0c829dc84ff1"
      },
      "outputs": [
        {
          "output_type": "stream",
          "name": "stdout",
          "text": [
            "df/dx = 3.0\n",
            "df/dy = 8.0\n"
          ]
        }
      ],
      "source": [
        "x = torch.tensor(2.0, requires_grad=True)\n",
        "y = torch.tensor(3.0, requires_grad=True)\n",
        "\n",
        "f = x*y + y**2\n",
        "f.backward()\n",
        "\n",
        "print('df/dx =', x.grad.item())  # expected: y => 3\n",
        "print('df/dy =', y.grad.item())  # expected: x + 2y => 2 + 6 = 8"
      ]
    },
    {
      "cell_type": "markdown",
      "id": "2ea3779a",
      "metadata": {
        "id": "2ea3779a"
      },
      "source": [
        "## 🔬 Bonus: Finite-Difference Gradient Check (Optional)\n",
        "\n",
        "Use finite differences to **numerically** approximate the gradient and compare with autograd."
      ]
    },
    {
      "cell_type": "code",
      "execution_count": null,
      "id": "7b6e03fd",
      "metadata": {
        "id": "7b6e03fd",
        "colab": {
          "base_uri": "https://localhost:8080/"
        },
        "outputId": "a3cfedb2-094b-49cf-ac33-d6b625d558f2"
      },
      "outputs": [
        {
          "output_type": "stream",
          "name": "stdout",
          "text": [
            "finite-diff grad ≈ 44.00000000259752\n",
            "autograd grad = 44.0\n"
          ]
        }
      ],
      "source": [
        "def finite_diff_grad_scalar(fn, x0: float, eps: float = 1e-6):\n",
        "    \"\"\"Return numerical derivative of a scalar function f(x) at x0.\"\"\"\n",
        "    return (fn(x0 + eps) - fn(x0 - eps)) / (2 * eps)\n",
        "\n",
        "# Compare on f(x) = 3x^3 + 2x^2 + 5 at x0 = 2\n",
        "def f_np(x):\n",
        "    return 3*x**3 + 2*x**2 + 5\n",
        "\n",
        "x0 = 2.0\n",
        "g_num = finite_diff_grad_scalar(f_np, x0)\n",
        "print('finite-diff grad ≈', g_num)\n",
        "\n",
        "# Autograd grad for comparison\n",
        "x = torch.tensor([x0], requires_grad=True)\n",
        "f = 3*x**3 + 2*x**2 + 5\n",
        "f.backward()\n",
        "print('autograd grad =', x.grad.item())"
      ]
    }
  ],
  "metadata": {
    "kernelspec": {
      "display_name": "Python 3",
      "language": "python",
      "name": "python3"
    },
    "language_info": {
      "codemirror_mode": {
        "name": "ipython",
        "version": 3
      },
      "file_extension": ".py",
      "mimetype": "text/x-python",
      "name": "python",
      "nbconvert_exporter": "python",
      "pygments_lexer": "ipython3",
      "version": "3.11.9"
    },
    "colab": {
      "provenance": [],
      "include_colab_link": true
    }
  },
  "nbformat": 4,
  "nbformat_minor": 5
}